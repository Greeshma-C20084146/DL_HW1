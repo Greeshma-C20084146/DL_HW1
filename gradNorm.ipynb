{
 "cells": [
  {
   "cell_type": "code",
   "execution_count": 1,
   "metadata": {
    "executionInfo": {
     "elapsed": 3843,
     "status": "ok",
     "timestamp": 1675591334544,
     "user": {
      "displayName": "Chandu B L",
      "userId": "05274756291326385189"
     },
     "user_tz": -330
    },
    "id": "vblxFknAAfeO"
   },
   "outputs": [],
   "source": [
    "import numpy as np\n",
    "import torch\n",
    "import matplotlib.pyplot as plt\n",
    "import torch.nn as nn"
   ]
  },
  {
   "cell_type": "code",
   "execution_count": 2,
   "metadata": {
    "executionInfo": {
     "elapsed": 542,
     "status": "ok",
     "timestamp": 1675591337555,
     "user": {
      "displayName": "Chandu B L",
      "userId": "05274756291326385189"
     },
     "user_tz": -330
    },
    "id": "hTc-jwpoBm9E"
   },
   "outputs": [],
   "source": [
    "def model_train(model, x, y):\n",
    "    epoch_max = 2000\n",
    "    epoch_arr,loss_arr=[],[]\n",
    "    not_converged = True\n",
    "    epoch = 0\n",
    "    grad_arr = []\n",
    "    while not_converged:\n",
    "        epoch += 1\n",
    "        prediction = model(x)  \n",
    "        loss = loss_func(prediction, y)\n",
    "        optimizer.zero_grad() #clear gradients for next epoch\n",
    "        loss.backward() #compute gradients using back propogation\n",
    "        optimizer.step() \n",
    "        epoch_arr.append(epoch)\n",
    "        loss_arr.append(loss.detach().numpy())\n",
    "\n",
    "        grad_all = 0.0\n",
    "        for p in model.parameters():\n",
    "            grad = 0.0\n",
    "            if p.grad is not None:\n",
    "                grad = (p.grad.cpu().data.numpy()**2).sum()\n",
    "            grad_all += grad\n",
    "        grad_norm = grad_all ** 0.5\n",
    "        \n",
    "        grad_arr.append(grad_norm)\n",
    "        \n",
    "        if epoch % 100 == 0: \n",
    "            print(f'epoch: {epoch}, loss = {loss.item():.4f}')\n",
    "                \n",
    "        if epoch == epoch_max:\n",
    "                print(\"Max Epoch Reached\")\n",
    "                not_converged = False\n",
    "\n",
    "        elif (epoch > 5) and  (loss_arr[-1] < 0.001):\n",
    "            if abs(loss_arr[-3] - loss_arr[-2]) < 1.0e-05 and abs(loss_arr[-2] - loss_arr[-1]) < 1.0e-05:\n",
    "                print(\"Convergence reached for loss:\",loss_arr[-1])\n",
    "                not_converged = False\n",
    "                \n",
    "    return epoch_arr, loss_arr, prediction, grad_arr"
   ]
  },
  {
   "cell_type": "code",
   "execution_count": 3,
   "metadata": {
    "colab": {
     "base_uri": "https://localhost:8080/"
    },
    "executionInfo": {
     "elapsed": 17,
     "status": "ok",
     "timestamp": 1675591353019,
     "user": {
      "displayName": "Chandu B L",
      "userId": "05274756291326385189"
     },
     "user_tz": -330
    },
    "id": "FRicy_VEBr7n",
    "outputId": "e0e93b67-b064-4bbe-9b97-527ee2b49a12"
   },
   "outputs": [
    {
     "name": "stdout",
     "output_type": "stream",
     "text": [
      "(300, 1)\n",
      "(300, 1)\n"
     ]
    }
   ],
   "source": [
    "x = np.expand_dims(np.arange(-1.5, 1.5, 0.01),1) \n",
    "y = np.sinc(5*x)\n",
    "print(x.shape)\n",
    "print(y.shape)"
   ]
  },
  {
   "cell_type": "code",
   "execution_count": 4,
   "metadata": {
    "colab": {
     "base_uri": "https://localhost:8080/",
     "height": 295
    },
    "executionInfo": {
     "elapsed": 825,
     "status": "ok",
     "timestamp": 1675591441841,
     "user": {
      "displayName": "Chandu B L",
      "userId": "05274756291326385189"
     },
     "user_tz": -330
    },
    "id": "Xt9S-wfsBv08",
    "outputId": "1b06a15a-ded0-4471-c959-6e4cd64f72de"
   },
   "outputs": [
    {
     "data": {
      "image/png": "[encoded data removed]",
      "text/plain": [
       "<Figure size 720x288 with 1 Axes>"
      ]
     },
     "metadata": {
      "needs_background": "light"
     },
     "output_type": "display_data"
    }
   ],
   "source": [
    "x, y = torch.tensor(x, dtype=torch.float32), torch.tensor(y, dtype=torch.float32)\n",
    "plt.figure(figsize=(10,4))\n",
    "plt.plot(x, y, color = \"red\")\n",
    "plt.title('Function Plot')\n",
    "plt.xlabel('Independent varible (x)')\n",
    "plt.ylabel('Dependent varible (y)')\n",
    "plt.show()"
   ]
  },
  {
   "cell_type": "code",
   "execution_count": 10,
   "metadata": {
    "executionInfo": {
     "elapsed": 9,
     "status": "ok",
     "timestamp": 1675591580752,
     "user": {
      "displayName": "Chandu B L",
      "userId": "05274756291326385189"
     },
     "user_tz": -330
    },
    "id": "mKckM46oCFWA"
   },
   "outputs": [],
   "source": [
    "class Model(nn.Module):\n",
    "    def __init__(self,):\n",
    "        super(Model, self).__init__()\n",
    "        self.linear1 = nn.Linear(1, 190)\n",
    "        self.predict = nn.Linear(190, 1)\n",
    "    \n",
    "    def forward(self,x):\n",
    "        x = nn.functional.leaky_relu(self.linear1(x))\n",
    "\n",
    "        x = self.predict(x)\n",
    "        return x\n",
    " \n",
    "model_3 = Model()"
   ]
  },
  {
   "cell_type": "code",
   "execution_count": 11,
   "metadata": {
    "colab": {
     "base_uri": "https://localhost:8080/"
    },
    "executionInfo": {
     "elapsed": 2312,
     "status": "ok",
     "timestamp": 1675591583721,
     "user": {
      "displayName": "Chandu B L",
      "userId": "05274756291326385189"
     },
     "user_tz": -330
    },
    "id": "vgMpIWSaCIQ-",
    "outputId": "b74da21e-4506-4e59-968a-3c836b7db6f7"
   },
   "outputs": [
    {
     "name": "stdout",
     "output_type": "stream",
     "text": [
      "571\n",
      "epoch: 100, loss = 0.0486\n",
      "epoch: 200, loss = 0.0403\n",
      "epoch: 300, loss = 0.0342\n",
      "epoch: 400, loss = 0.0281\n",
      "epoch: 500, loss = 0.0219\n",
      "epoch: 600, loss = 0.0168\n",
      "epoch: 700, loss = 0.0126\n",
      "epoch: 800, loss = 0.0097\n",
      "epoch: 900, loss = 0.0077\n",
      "epoch: 1000, loss = 0.0064\n",
      "epoch: 1100, loss = 0.0056\n",
      "epoch: 1200, loss = 0.0051\n",
      "epoch: 1300, loss = 0.0046\n",
      "epoch: 1400, loss = 0.0043\n",
      "epoch: 1500, loss = 0.0041\n",
      "epoch: 1600, loss = 0.0039\n",
      "epoch: 1700, loss = 0.0038\n",
      "epoch: 1800, loss = 0.0037\n",
      "epoch: 1900, loss = 0.0036\n",
      "epoch: 2000, loss = 0.0035\n",
      "Max Epoch Reached\n"
     ]
    }
   ],
   "source": [
    "optimizer = torch.optim.Adam(model_3.parameters(), lr = 1e-3, weight_decay = 1e-4)\n",
    "loss_func = torch.nn.MSELoss()  # mean squared loss\n",
    "pytorch_total_params = sum(p.numel() for p in model_3.parameters())\n",
    "print(pytorch_total_params)\n",
    "m3_epoch_arr, m3_loss_arr, m3_prediction, m3_grad_arr = model_train(model_3, x, y)"
   ]
  },
  {
   "cell_type": "code",
   "execution_count": 12,
   "metadata": {
    "colab": {
     "base_uri": "https://localhost:8080/",
     "height": 295
    },
    "executionInfo": {
     "elapsed": 28,
     "status": "ok",
     "timestamp": 1675591585350,
     "user": {
      "displayName": "Chandu B L",
      "userId": "05274756291326385189"
     },
     "user_tz": -330
    },
    "id": "7brePi8xCW9f",
    "outputId": "59061667-491a-4f3d-8c12-496d185f75e3"
   },
   "outputs": [
    {
     "data": {
      "image/png": "[encoded data removed]",
      "text/plain": [
       "<Figure size 720x288 with 1 Axes>"
      ]
     },
     "metadata": {
      "needs_background": "light"
     },
     "output_type": "display_data"
    }
   ],
   "source": [
    "plt.figure(figsize=(10,4))\n",
    "plt.plot(m3_epoch_arr, m3_grad_arr)\n",
    "plt.title('Gradient Norm - Training')\n",
    "plt.xlabel(\"Epoch\")\n",
    "plt.ylabel(\"Gradient Norm\")\n",
    "plt.show()"
   ]
  },
  {
   "cell_type": "code",
   "execution_count": 13,
   "metadata": {
    "colab": {
     "base_uri": "https://localhost:8080/",
     "height": 295
    },
    "executionInfo": {
     "elapsed": 813,
     "status": "ok",
     "timestamp": 1675591605390,
     "user": {
      "displayName": "Chandu B L",
      "userId": "05274756291326385189"
     },
     "user_tz": -330
    },
    "id": "269WdOawCon9",
    "outputId": "37e56c92-fa90-43cd-c696-7a71dafbfb34"
   },
   "outputs": [
    {
     "data": {
      "image/png": "[encoded data removed]",
      "text/plain": [
       "<Figure size 720x288 with 1 Axes>"
      ]
     },
     "metadata": {
      "needs_background": "light"
     },
     "output_type": "display_data"
    }
   ],
   "source": [
    "plt.figure(figsize=(10,4))\n",
    "plt.plot(m1_epoch_arr, m1_loss_arr)\n",
    "plt.title('Loss During Training')\n",
    "plt.xlabel(\"Epoch\")\n",
    "plt.ylabel(\"Loss\")\n",
    "plt.show()"
   ]
  },
  {
   "cell_type": "code",
   "execution_count": 14,
   "metadata": {
    "colab": {
     "base_uri": "https://localhost:8080/",
     "height": 295
    },
    "executionInfo": {
     "elapsed": 613,
     "status": "ok",
     "timestamp": 1675591621644,
     "user": {
      "displayName": "Chandu B L",
      "userId": "05274756291326385189"
     },
     "user_tz": -330
    },
    "id": "FADLsWf-CtUC",
    "outputId": "7749fdae-c0d5-46ed-c4ed-18346f9fcd50"
   },
   "outputs": [
    {
     "data": {
      "image/png": "[encoded data removed]",
      "text/plain": [
       "<Figure size 720x288 with 1 Axes>"
      ]
     },
     "metadata": {
      "needs_background": "light"
     },
     "output_type": "display_data"
    }
   ],
   "source": [
    "plt.figure(figsize=(10,4))\n",
    "plt.plot(m1_epoch_arr, m1_loss_arr)\n",
    "plt.plot(m1_epoch_arr, m1_grad_arr)\n",
    "plt.title('Loss vs Gradient Norm')\n",
    "plt.xlabel(\"Epoch\")\n",
    "plt.ylabel(\"Loss\")\n",
    "plt.show()"
   ]
  },
  {
   "cell_type": "code",
   "execution_count": null,
   "metadata": {
    "id": "HB_2b1UPCxZu"
   },
   "outputs": [],
   "source": []
  }
 ],
 "metadata": {
  "colab": {
   "authorship_tag": "ABX9TyPLGkRecoXij+Wyfuz2IuW7",
   "provenance": []
  },
  "kernelspec": {
   "display_name": "Python 3 (ipykernel)",
   "language": "python",
   "name": "python3"
  },
  "language_info": {
   "codemirror_mode": {
    "name": "ipython",
    "version": 3
   },
   "file_extension": ".py",
   "mimetype": "text/x-python",
   "name": "python",
   "nbconvert_exporter": "python",
   "pygments_lexer": "ipython3",
   "version": "3.9.13"
  }
 },
 "nbformat": 4,
 "nbformat_minor": 1
}
