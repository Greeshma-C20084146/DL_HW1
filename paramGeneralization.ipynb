{
 "cells": [
  {
   "cell_type": "code",
   "execution_count": 11,
   "metadata": {
    "executionInfo": {
     "elapsed": 366,
     "status": "ok",
     "timestamp": 1675598962483,
     "user": {
      "displayName": "Chandu B L",
      "userId": "05274756291326385189"
     },
     "user_tz": -330
    },
    "id": "B8DJybEcZ4yZ"
   },
   "outputs": [],
   "source": [
    "import torch\n",
    "import torch.nn as nn\n",
    "import torch.optim as optim\n",
    "from torchvision import datasets, transforms\n",
    "from torch.autograd import Variable\n",
    "from PIL import Image\n",
    "import torch.nn.functional as F\n",
    "import numpy as np\n",
    "import matplotlib.pyplot as plt"
   ]
  },
  {
   "cell_type": "code",
   "execution_count": 12,
   "metadata": {
    "executionInfo": {
     "elapsed": 10,
     "status": "ok",
     "timestamp": 1675598963130,
     "user": {
      "displayName": "Chandu B L",
      "userId": "05274756291326385189"
     },
     "user_tz": -330
    },
    "id": "7v679n_UZ-j5"
   },
   "outputs": [],
   "source": [
    "def load_data(train_batch_size, test_batch_size):\n",
    "    train_data = torch.utils.data.DataLoader(\n",
    "        datasets.MNIST('data', train=True, download=True,\n",
    "                       transform=transforms.Compose([\n",
    "                           transforms.ToTensor(),\n",
    "                       ])),\n",
    "        batch_size=train_batch_size, shuffle=True)\n",
    "\n",
    "    test_data = torch.utils.data.DataLoader(\n",
    "        datasets.MNIST('data', train=False,\n",
    "                       transform=transforms.Compose([\n",
    "                           transforms.ToTensor(),\n",
    "                       ])),\n",
    "        batch_size=test_batch_size, shuffle=True)\n",
    "    return (train_data, test_data)"
   ]
  },
  {
   "cell_type": "code",
   "execution_count": 13,
   "metadata": {
    "executionInfo": {
     "elapsed": 10,
     "status": "ok",
     "timestamp": 1675598963131,
     "user": {
      "displayName": "Chandu B L",
      "userId": "05274756291326385189"
     },
     "user_tz": -330
    },
    "id": "LgK93aO8Zveb"
   },
   "outputs": [],
   "source": [
    "class Model1 (nn.Module):\n",
    "    def __init__(self):\n",
    "        super().__init__()\n",
    "        self.fc1 = nn.Linear(784, 6)\n",
    "        self.fc2 = nn.Linear(6, 8)\n",
    "        self.fc3 = nn.Linear(8, 10)\n",
    "\n",
    "    def forward(self, val):\n",
    "        val = F.relu(self.fc1(val))\n",
    "        val = F.relu(self.fc2(val))\n",
    "        val = self.fc3(val)\n",
    "        return val\n",
    "    \n",
    "class Model2 (nn.Module):\n",
    "    def __init__(self):\n",
    "        super().__init__()\n",
    "        self.fc1 = nn.Linear(784, 40)\n",
    "        self.fc2 = nn.Linear(40, 50)\n",
    "        self.fc3 = nn.Linear(50, 10)\n",
    "\n",
    "    def forward(self, val):\n",
    "        val = F.relu(self.fc1(val))\n",
    "        val = F.relu(self.fc2(val))\n",
    "        val = self.fc3(val)\n",
    "        return val\n",
    "    \n",
    "class Model3 (nn.Module):\n",
    "    def __init__(self):\n",
    "        super().__init__()\n",
    "        self.fc1 = nn.Linear(784, 15)\n",
    "        self.fc2 = nn.Linear(15, 100)\n",
    "        self.fc3 = nn.Linear(100, 10)\n",
    "\n",
    "    def forward(self, val):\n",
    "        val = F.relu(self.fc1(val))\n",
    "        val = F.relu(self.fc2(val))\n",
    "        val = self.fc3(val)\n",
    "        return val\n",
    "\n",
    "class Model4 (nn.Module):\n",
    "    def __init__(self):\n",
    "        super().__init__()\n",
    "        self.fc1 = nn.Linear(784, 120)\n",
    "        self.fc2 = nn.Linear(120, 60)\n",
    "        self.fc3 = nn.Linear(60, 10)\n",
    "\n",
    "    def forward(self, val):\n",
    "        val = F.relu(self.fc1(val))\n",
    "        val = F.relu(self.fc2(val))\n",
    "        val = self.fc3(val)\n",
    "        return val\n",
    "    \n",
    "class Model5 (nn.Module):\n",
    "    def __init__(self):\n",
    "        super().__init__()\n",
    "        self.fc1 = nn.Linear(784, 10)\n",
    "        self.fc2 = nn.Linear(10, 100)\n",
    "        self.fc3 = nn.Linear(100, 10)\n",
    "\n",
    "    def forward(self, val):\n",
    "        val = F.relu(self.fc1(val))\n",
    "        val = F.relu(self.fc2(val))\n",
    "        val = self.fc3(val)\n",
    "        return val"
   ]
  },
  {
   "cell_type": "code",
   "execution_count": 14,
   "metadata": {
    "executionInfo": {
     "elapsed": 9,
     "status": "ok",
     "timestamp": 1675598963131,
     "user": {
      "displayName": "Chandu B L",
      "userId": "05274756291326385189"
     },
     "user_tz": -330
    },
    "id": "C2WIf8PzZ6U8"
   },
   "outputs": [],
   "source": [
    "train_batch_size = 50\n",
    "test_batch_size = 100\n",
    "train_data, test_data = load_data(train_batch_size, test_batch_size)\n",
    "epochs = 10"
   ]
  },
  {
   "cell_type": "code",
   "execution_count": 15,
   "metadata": {
    "executionInfo": {
     "elapsed": 10,
     "status": "ok",
     "timestamp": 1675598963132,
     "user": {
      "displayName": "Chandu B L",
      "userId": "05274756291326385189"
     },
     "user_tz": -330
    },
    "id": "7wCjIcxQagH9"
   },
   "outputs": [],
   "source": [
    "def calc_params(model):\n",
    "    return sum(p.numel() for p in model.parameters())\n",
    "def define_optimizer(model):\n",
    "    return optim.Adam(model.parameters(), lr = 0.0001)"
   ]
  },
  {
   "cell_type": "code",
   "execution_count": 16,
   "metadata": {
    "executionInfo": {
     "elapsed": 9,
     "status": "ok",
     "timestamp": 1675598963132,
     "user": {
      "displayName": "Chandu B L",
      "userId": "05274756291326385189"
     },
     "user_tz": -330
    },
    "id": "xJpWBoXVaiC-"
   },
   "outputs": [],
   "source": [
    "def train(model, optimizer, train_data, loss_fn):\n",
    "    model.train()\n",
    "\n",
    "    for batch_idx, (data, target) in enumerate(train_data):\n",
    "        data, target = Variable(data), Variable(target)\n",
    "        optimizer.zero_grad()\n",
    "\n",
    "        # Forward propagation\n",
    "        output = model(data.view(-1,784))\n",
    "        loss = loss_fn(output, target)\n",
    "        loss.backward()\n",
    "        optimizer.step()"
   ]
  },
  {
   "cell_type": "code",
   "execution_count": 17,
   "metadata": {
    "executionInfo": {
     "elapsed": 10,
     "status": "ok",
     "timestamp": 1675598963133,
     "user": {
      "displayName": "Chandu B L",
      "userId": "05274756291326385189"
     },
     "user_tz": -330
    },
    "id": "WkxOqaMNatUA"
   },
   "outputs": [],
   "source": [
    "def calculate_loss(model, loader, loss_fn):\n",
    "    correct = 0\n",
    "    total = 0\n",
    "    costTotal = 0\n",
    "    costCounter = 0\n",
    "    with torch.no_grad():\n",
    "        for batch in loader:\n",
    "            data, target = batch\n",
    "            output = model(data.view(-1, 784))\n",
    "            cost = loss_fn(output, target)\n",
    "            costTotal += cost\n",
    "            costCounter += 1\n",
    "            for i, outputTensor in enumerate(output):\n",
    "                if torch.argmax(outputTensor) == target[i]:\n",
    "                    correct += 1\n",
    "                total += 1\n",
    "    return costTotal / costCounter, round(correct/total, 3)\n"
   ]
  },
  {
   "cell_type": "code",
   "execution_count": 18,
   "metadata": {
    "executionInfo": {
     "elapsed": 9,
     "status": "ok",
     "timestamp": 1675598963133,
     "user": {
      "displayName": "Chandu B L",
      "userId": "05274756291326385189"
     },
     "user_tz": -330
    },
    "id": "jdo-QUu3alNb"
   },
   "outputs": [],
   "source": [
    "def compute(model, optimizer):\n",
    "    loss_fn = torch.nn.CrossEntropyLoss()\n",
    "    for epoch in range(1, epochs + 1):\n",
    "        train(model, optimizer, train_data, loss_fn)\n",
    "        train_loss, train_acc = calculate_loss(model, train_data, loss_fn)\n",
    "        test_loss, test_acc = calculate_loss(model, test_data, loss_fn)\n",
    "    loss_train_arr.append(train_loss)\n",
    "    loss_test_arr.append(test_loss)\n",
    "    param_arr.append(calc_params(model))\n",
    "    print(\"Model Train loss: \", train_loss)\n",
    "    print(\"Model Test loss: \", test_loss)\n",
    "    train_acc_arr.append(train_acc)\n",
    "    test_acc_arr.append(test_acc)"
   ]
  },
  {
   "cell_type": "code",
   "execution_count": 19,
   "metadata": {
    "executionInfo": {
     "elapsed": 9,
     "status": "ok",
     "timestamp": 1675598963133,
     "user": {
      "displayName": "Chandu B L",
      "userId": "05274756291326385189"
     },
     "user_tz": -330
    },
    "id": "VLQKtNwvao3V"
   },
   "outputs": [],
   "source": [
    "loss_train_arr = []\n",
    "loss_test_arr = []\n",
    "param_arr = []\n",
    "test_acc_arr = []\n",
    "train_acc_arr = []"
   ]
  },
  {
   "cell_type": "code",
   "execution_count": 20,
   "metadata": {
    "colab": {
     "base_uri": "https://localhost:8080/"
    },
    "executionInfo": {
     "elapsed": 785378,
     "status": "ok",
     "timestamp": 1675599748503,
     "user": {
      "displayName": "Chandu B L",
      "userId": "05274756291326385189"
     },
     "user_tz": -330
    },
    "id": "dGZcf9rkawOp",
    "outputId": "6257118e-74bc-4221-8e4f-c4a6d627f0c8"
   },
   "outputs": [
    {
     "name": "stdout",
     "output_type": "stream",
     "text": [
      "Model 1 parameters:  4856\n",
      "Model Train loss:  tensor(0.5595)\n",
      "Model Test loss:  tensor(0.5465)\n",
      "Model 2 parameters:  33960\n",
      "Model Train loss:  tensor(0.1978)\n",
      "Model Test loss:  tensor(0.2020)\n",
      "Model 3 parameters:  14385\n",
      "Model Train loss:  tensor(0.2396)\n",
      "Model Test loss:  tensor(0.2402)\n",
      "Model 4 parameters:  102070\n",
      "Model Train loss:  tensor(0.1225)\n",
      "Model Test loss:  tensor(0.1325)\n",
      "Model 5 parameters:  9960\n",
      "Model Train loss:  tensor(0.2551)\n",
      "Model Test loss:  tensor(0.2572)\n"
     ]
    }
   ],
   "source": [
    "model1 = Model1()\n",
    "print(\"Model 1 parameters: \", (calc_params(model1)))\n",
    "optimizer = define_optimizer(model1)\n",
    "compute(model1, optimizer)\n",
    "\n",
    "model2 = Model2()\n",
    "print(\"Model 2 parameters: \", (calc_params(model2)))\n",
    "optimizer = define_optimizer(model2)\n",
    "compute(model2, optimizer)\n",
    "\n",
    "model3 = Model3()\n",
    "print(\"Model 3 parameters: \", (calc_params(model3)))\n",
    "optimizer = define_optimizer(model3)\n",
    "compute(model3, optimizer)\n",
    "\n",
    "model4 = Model4()\n",
    "print(\"Model 4 parameters: \", (calc_params(model4)))\n",
    "optimizer = define_optimizer(model4)\n",
    "compute(model4, optimizer)\n",
    "\n",
    "model5 = Model5()\n",
    "print(\"Model 5 parameters: \", (calc_params(model5)))\n",
    "optimizer = define_optimizer(model5)\n",
    "compute(model5, optimizer)"
   ]
  },
  {
   "cell_type": "code",
   "execution_count": 21,
   "metadata": {
    "executionInfo": {
     "elapsed": 32,
     "status": "ok",
     "timestamp": 1675599748504,
     "user": {
      "displayName": "Chandu B L",
      "userId": "05274756291326385189"
     },
     "user_tz": -330
    },
    "id": "-VxKy7bOa0K_"
   },
   "outputs": [],
   "source": [
    "temp_1 = []\n",
    "for i in loss_train_arr:\n",
    "    temp_1.append(i.data.numpy().tolist())\n",
    "\n",
    "temp_2 = []\n",
    "for i in loss_test_arr:\n",
    "    temp_2.append(i.data.numpy().tolist())"
   ]
  },
  {
   "cell_type": "code",
   "execution_count": 22,
   "metadata": {
    "colab": {
     "base_uri": "https://localhost:8080/",
     "height": 364
    },
    "executionInfo": {
     "elapsed": 31,
     "status": "ok",
     "timestamp": 1675599748505,
     "user": {
      "displayName": "Chandu B L",
      "userId": "05274756291326385189"
     },
     "user_tz": -330
    },
    "id": "_lHYKpoKa4Ml",
    "outputId": "1966c0b7-0458-4b32-cc49-98ce67b8f1ef"
   },
   "outputs": [
    {
     "data": {
      "image/png": "[encoded data removed]",
      "text/plain": [
       "<Figure size 864x432 with 1 Axes>"
      ]
     },
     "metadata": {
      "needs_background": "light"
     },
     "output_type": "display_data"
    }
   ],
   "source": [
    "plt.figure(figsize=(12,6))\n",
    "plt.scatter(param_arr, temp_1, color = \"r\")\n",
    "plt.scatter(param_arr, temp_2, color = \"g\")\n",
    "plt.title('Model Loss Comparision')\n",
    "plt.legend(['Train Loss', 'Test Loss'])\n",
    "plt.xlabel('Parameters')\n",
    "plt.ylabel('Loss')\n",
    "plt.show()"
   ]
  },
  {
   "cell_type": "code",
   "execution_count": 23,
   "metadata": {
    "colab": {
     "base_uri": "https://localhost:8080/",
     "height": 361
    },
    "executionInfo": {
     "elapsed": 665,
     "status": "ok",
     "timestamp": 1675599749160,
     "user": {
      "displayName": "Chandu B L",
      "userId": "05274756291326385189"
     },
     "user_tz": -330
    },
    "id": "-CZRyqBva7uY",
    "outputId": "a0120fb8-ac37-4a36-d1db-480ec6700fbc"
   },
   "outputs": [
    {
     "data": {
      "image/png": "[encoded data removed]",
      "text/plain": [
       "<Figure size 864x432 with 1 Axes>"
      ]
     },
     "metadata": {
      "needs_background": "light"
     },
     "output_type": "display_data"
    }
   ],
   "source": [
    "plt.figure(figsize=(12,6))\n",
    "plt.scatter(param_arr, train_acc_arr, color = \"r\")\n",
    "plt.scatter(param_arr, test_acc_arr, color = \"g\")\n",
    "plt.title('Model Acc Comparision')\n",
    "plt.legend(['Train Accuracy', 'Test Accuracy'])\n",
    "plt.xlabel('Parameters')\n",
    "plt.ylabel('Accuracy')\n",
    "plt.show()"
   ]
  },
  {
   "cell_type": "code",
   "execution_count": 23,
   "metadata": {
    "executionInfo": {
     "elapsed": 9,
     "status": "ok",
     "timestamp": 1675599749161,
     "user": {
      "displayName": "Chandu B L",
      "userId": "05274756291326385189"
     },
     "user_tz": -330
    },
    "id": "o33sf4-ubPpL"
   },
   "outputs": [],
   "source": []
  }
 ],
 "metadata": {
  "colab": {
   "authorship_tag": "ABX9TyPaLAaB6wrhnQ51/DpZkHcW",
   "provenance": []
  },
  "kernelspec": {
   "display_name": "Python 3 (ipykernel)",
   "language": "python",
   "name": "python3"
  },
  "language_info": {
   "codemirror_mode": {
    "name": "ipython",
    "version": 3
   },
   "file_extension": ".py",
   "mimetype": "text/x-python",
   "name": "python",
   "nbconvert_exporter": "python",
   "pygments_lexer": "ipython3",
   "version": "3.9.13"
  }
 },
 "nbformat": 4,
 "nbformat_minor": 1
}
