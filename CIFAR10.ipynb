{
 "cells": [
  {
   "cell_type": "code",
   "execution_count": 5,
   "metadata": {
    "id": "HOTHNdKmdejw"
   },
   "outputs": [],
   "source": [
    "import torch\n",
    "import torch.nn as nn\n",
    "import torch.optim as optim\n",
    "from torchvision import datasets, transforms\n",
    "from torch.autograd import Variable\n",
    "from PIL import Image\n",
    "import torch.nn.functional as F\n",
    "import numpy as np\n",
    "import matplotlib.pyplot as plt"
   ]
  },
  {
   "cell_type": "code",
   "execution_count": 6,
   "metadata": {
    "id": "9rf61Mk0dmnr"
   },
   "outputs": [],
   "source": [
    "def load_data(train_batch_size, test_batch_size):\n",
    "    train_loader = torch.utils.data.DataLoader(\n",
    "        datasets.CIFAR10('data', train=True, download=True,\n",
    "                       transform=transforms.Compose([\n",
    "                           transforms.ToTensor(),\n",
    "                           transforms.Normalize((0.5, 0.5, 0.5), (0.5, 0.5, 0.5))\n",
    "                       ])),\n",
    "        batch_size=train_batch_size, shuffle=True)\n",
    "\n",
    "    test_loader = torch.utils.data.DataLoader(\n",
    "        datasets.CIFAR10('data', train=False,\n",
    "                       transform=transforms.Compose([\n",
    "                           transforms.ToTensor(),\n",
    "                           transforms.Normalize((0.5, 0.5, 0.5), (0.5, 0.5, 0.5))\n",
    "                       ])),\n",
    "        batch_size=test_batch_size, shuffle=True)\n",
    "    return (train_loader, test_loader)"
   ]
  },
  {
   "cell_type": "code",
   "execution_count": 7,
   "metadata": {
    "id": "Jhg9_HTzdshC"
   },
   "outputs": [],
   "source": [
    " class LeNet(nn.Module):\n",
    "    def __init__(self):\n",
    "        super(LeNet, self).__init__()\n",
    "        \n",
    "        self.conv1 = nn.Conv2d(3, 6, 5)\n",
    "        self.conv2 = nn.Conv2d(6, 16, 5)\n",
    "        self.fc1 = nn.Linear(16 * 5 * 5, 120)\n",
    "        self.fc2 = nn.Linear(120, 84)\n",
    "        self.fc3 = nn.Linear(84, 10)\n",
    "\n",
    "    def forward(self, x):\n",
    "        x = F.max_pool2d(F.relu(self.conv1(x)), 2)\n",
    "        x = F.max_pool2d(F.relu(self.conv2(x)), 2)\n",
    "        # flatten as one dimension\n",
    "        x = x.view(x.size()[0], -1)\n",
    "        x = F.relu(self.fc1(x))\n",
    "        x = F.relu(self.fc2(x))\n",
    "\n",
    "        x = self.fc3(x)\n",
    "        return x"
   ]
  },
  {
   "cell_type": "code",
   "execution_count": 15,
   "metadata": {
    "id": "Qn5eb6MUecFb"
   },
   "outputs": [],
   "source": [
    "class Net(nn.Module):\n",
    "    def __init__(self):\n",
    "        super(Net, self).__init__()\n",
    "        self.conv1 = nn.Conv2d(3, 32, 5)\n",
    "        self.conv2 = nn.Conv2d(32, 32, 5)\n",
    "        self.conv3 = nn.Conv2d(32, 64, 5)\n",
    "        self.fc1 = nn.Linear(1024, 256)\n",
    "        self.fc2 = nn.Linear(256, 10)\n",
    "\n",
    "    def forward(self, x):\n",
    "        x = F.relu(self.conv1(x))\n",
    "        x = F.relu(F.max_pool2d(self.conv2(x), 2))\n",
    "        x = F.dropout(x, p=0.5, training=self.training)\n",
    "        x = F.relu(F.max_pool2d(self.conv3(x),2))\n",
    "        x = F.dropout(x, p=0.5, training=self.training)\n",
    "        # flatten as one dimension\n",
    "        x = x.view(x.size()[0], -1)\n",
    "        x = F.relu(self.fc1(x))\n",
    "        x = F.dropout(x, training=self.training)\n",
    "        x = self.fc2(x)\n",
    "        return F.log_softmax(x, dim=1)"
   ]
  },
  {
   "cell_type": "code",
   "execution_count": 12,
   "metadata": {
    "colab": {
     "base_uri": "https://localhost:8080/"
    },
    "id": "L6fZ8YTieiPH",
    "outputId": "9646ad58-af7a-4ef0-f2eb-c32671f037ae"
   },
   "outputs": [
    {
     "name": "stdout",
     "output_type": "stream",
     "text": [
      "Files already downloaded and verified\n"
     ]
    }
   ],
   "source": [
    "train_batch_size = 64\n",
    "test_batch_size = 1000\n",
    "train_loader, test_loader = load_data(train_batch_size, test_batch_size)"
   ]
  },
  {
   "cell_type": "code",
   "execution_count": 13,
   "metadata": {
    "id": "eFZ3dLnLew5J"
   },
   "outputs": [],
   "source": [
    "def train(model, optimizer, epoch, train_loader, log_interval):\n",
    "    model.train()\n",
    "    loss_fn = torch.nn.CrossEntropyLoss()\n",
    "    n_correct = 0\n",
    "    train_loss = 0\n",
    "    counter = 0\n",
    "    n_samples = 0\n",
    "\n",
    "    for batch_idx, (data, target) in enumerate(train_loader):\n",
    "        counter += 1\n",
    "        data, target = Variable(data), Variable(target)\n",
    "        optimizer.zero_grad()\n",
    "\n",
    "        # Forward propagation\n",
    "        output = model(data)\n",
    "        loss = loss_fn(output, target)\n",
    "        loss.backward()\n",
    "        optimizer.step()\n",
    "\n",
    "        train_loss += loss.data\n",
    "\n",
    "        pred = np.argmax(output.data, axis=1)\n",
    "        n_samples += target.size(0)\n",
    "        n_correct += (pred == target).sum().item()\n",
    "        acc = 100.0 * n_correct / n_samples\n",
    "\n",
    "        # print log\n",
    "        if batch_idx % log_interval == 0:\n",
    "            print('Train set, Epoch {} [{}/{}]\\tLoss: {:.6f}'.format(\n",
    "                epoch, batch_idx * len(data), len(train_loader.dataset),\n",
    "                loss.data))\n",
    "            print(\"Train Accuracy: \", round(acc,2))\n",
    "    train_loss /= counter\n",
    "    return train_loss, round(acc,2)\n"
   ]
  },
  {
   "cell_type": "code",
   "execution_count": 17,
   "metadata": {
    "id": "VCxdjXjme1rv"
   },
   "outputs": [],
   "source": [
    "def test(model, epoch, test_loader):\n",
    "    model.eval()\n",
    "    test_loss = 0\n",
    "    correct = 0\n",
    "    \n",
    "    loss_fn = torch.nn.CrossEntropyLoss(size_average=False)\n",
    "\n",
    "    for data, target in test_loader:\n",
    "        data, target = Variable(data), Variable(target)\n",
    "        \n",
    "        output = model(data)\n",
    "        test_loss += loss_fn(output, target).data\n",
    "\n",
    "        pred = np.argmax(output.data, axis=1)\n",
    "        correct = correct + np.equal(pred, target.data).sum()\n",
    "\n",
    "    # Print log\n",
    "    test_loss /= len(test_loader.dataset)\n",
    "    print('\\nTest set, Epoch {} , Average loss: {:.4f}, Accuracy: {}/{} ({:.0f}%)\\n'.format(epoch,\n",
    "        test_loss, correct, len(test_loader.dataset),\n",
    "        100. * correct / len(test_loader.dataset)))\n"
   ]
  },
  {
   "cell_type": "code",
   "execution_count": 19,
   "metadata": {
    "colab": {
     "base_uri": "https://localhost:8080/"
    },
    "id": "B-WbKtxZfBeZ",
    "outputId": "cb5744cd-dcf8-4c91-db0f-c4f51bd04edf"
   },
   "outputs": [
    {
     "name": "stdout",
     "output_type": "stream",
     "text": [
      "Train set, Epoch 1 [0/50000]\tLoss: 2.302392\n",
      "Train Accuracy:  14.06\n",
      "Train set, Epoch 1 [12800/50000]\tLoss: 2.297323\n",
      "Train Accuracy:  9.96\n",
      "Train set, Epoch 1 [25600/50000]\tLoss: 2.301378\n",
      "Train Accuracy:  10.07\n",
      "Train set, Epoch 1 [38400/50000]\tLoss: 2.302758\n",
      "Train Accuracy:  10.17\n",
      "\n",
      "Test set, Epoch 1 , Average loss: 2.2945, Accuracy: 1589/10000 (16%)\n",
      "\n",
      "Train set, Epoch 2 [0/50000]\tLoss: 2.287512\n",
      "Train Accuracy:  25.0\n",
      "Train set, Epoch 2 [12800/50000]\tLoss: 2.291099\n",
      "Train Accuracy:  15.08\n",
      "Train set, Epoch 2 [25600/50000]\tLoss: 2.190733\n",
      "Train Accuracy:  15.02\n",
      "Train set, Epoch 2 [38400/50000]\tLoss: 2.187953\n",
      "Train Accuracy:  15.92\n",
      "\n",
      "Test set, Epoch 2 , Average loss: 2.1328, Accuracy: 2371/10000 (24%)\n",
      "\n",
      "Train set, Epoch 3 [0/50000]\tLoss: 2.163499\n",
      "Train Accuracy:  28.12\n",
      "Train set, Epoch 3 [12800/50000]\tLoss: 2.114242\n",
      "Train Accuracy:  23.76\n",
      "Train set, Epoch 3 [25600/50000]\tLoss: 2.076852\n",
      "Train Accuracy:  24.45\n",
      "Train set, Epoch 3 [38400/50000]\tLoss: 1.953592\n",
      "Train Accuracy:  25.19\n",
      "\n",
      "Test set, Epoch 3 , Average loss: 1.9337, Accuracy: 3067/10000 (31%)\n",
      "\n",
      "Train set, Epoch 4 [0/50000]\tLoss: 2.065702\n",
      "Train Accuracy:  40.62\n",
      "Train set, Epoch 4 [12800/50000]\tLoss: 2.037402\n",
      "Train Accuracy:  29.83\n",
      "Train set, Epoch 4 [25600/50000]\tLoss: 1.858217\n",
      "Train Accuracy:  30.78\n",
      "Train set, Epoch 4 [38400/50000]\tLoss: 1.803837\n",
      "Train Accuracy:  31.78\n",
      "\n",
      "Test set, Epoch 4 , Average loss: 1.7702, Accuracy: 3616/10000 (36%)\n",
      "\n",
      "Train set, Epoch 5 [0/50000]\tLoss: 1.757269\n",
      "Train Accuracy:  37.5\n",
      "Train set, Epoch 5 [12800/50000]\tLoss: 1.698280\n",
      "Train Accuracy:  37.12\n",
      "Train set, Epoch 5 [25600/50000]\tLoss: 1.584967\n",
      "Train Accuracy:  37.66\n",
      "Train set, Epoch 5 [38400/50000]\tLoss: 1.621178\n",
      "Train Accuracy:  38.18\n",
      "\n",
      "Test set, Epoch 5 , Average loss: 1.6014, Accuracy: 4094/10000 (41%)\n",
      "\n",
      "Train set, Epoch 6 [0/50000]\tLoss: 1.677257\n",
      "Train Accuracy:  43.75\n",
      "Train set, Epoch 6 [12800/50000]\tLoss: 1.713818\n",
      "Train Accuracy:  41.15\n",
      "Train set, Epoch 6 [25600/50000]\tLoss: 1.640333\n",
      "Train Accuracy:  41.75\n",
      "Train set, Epoch 6 [38400/50000]\tLoss: 1.556363\n",
      "Train Accuracy:  42.37\n",
      "\n",
      "Test set, Epoch 6 , Average loss: 1.5474, Accuracy: 4457/10000 (45%)\n",
      "\n",
      "Train set, Epoch 7 [0/50000]\tLoss: 1.402974\n",
      "Train Accuracy:  54.69\n",
      "Train set, Epoch 7 [12800/50000]\tLoss: 1.377167\n",
      "Train Accuracy:  45.48\n",
      "Train set, Epoch 7 [25600/50000]\tLoss: 1.406187\n",
      "Train Accuracy:  45.58\n",
      "Train set, Epoch 7 [38400/50000]\tLoss: 1.673465\n",
      "Train Accuracy:  45.51\n",
      "\n",
      "Test set, Epoch 7 , Average loss: 1.4684, Accuracy: 4738/10000 (47%)\n",
      "\n",
      "Train set, Epoch 8 [0/50000]\tLoss: 1.359501\n",
      "Train Accuracy:  54.69\n",
      "Train set, Epoch 8 [12800/50000]\tLoss: 1.212807\n",
      "Train Accuracy:  47.12\n",
      "Train set, Epoch 8 [25600/50000]\tLoss: 1.480437\n",
      "Train Accuracy:  47.55\n",
      "Train set, Epoch 8 [38400/50000]\tLoss: 1.267054\n",
      "Train Accuracy:  47.77\n",
      "\n",
      "Test set, Epoch 8 , Average loss: 1.4491, Accuracy: 4803/10000 (48%)\n",
      "\n",
      "Train set, Epoch 9 [0/50000]\tLoss: 1.217523\n",
      "Train Accuracy:  65.62\n",
      "Train set, Epoch 9 [12800/50000]\tLoss: 1.431260\n",
      "Train Accuracy:  49.62\n",
      "Train set, Epoch 9 [25600/50000]\tLoss: 1.262321\n",
      "Train Accuracy:  49.19\n",
      "Train set, Epoch 9 [38400/50000]\tLoss: 1.332597\n",
      "Train Accuracy:  49.44\n",
      "\n",
      "Test set, Epoch 9 , Average loss: 1.4006, Accuracy: 5006/10000 (50%)\n",
      "\n",
      "Train set, Epoch 10 [0/50000]\tLoss: 1.402990\n",
      "Train Accuracy:  50.0\n",
      "Train set, Epoch 10 [12800/50000]\tLoss: 1.399340\n",
      "Train Accuracy:  50.15\n",
      "Train set, Epoch 10 [25600/50000]\tLoss: 1.423750\n",
      "Train Accuracy:  50.52\n",
      "Train set, Epoch 10 [38400/50000]\tLoss: 1.283526\n",
      "Train Accuracy:  50.89\n",
      "\n",
      "Test set, Epoch 10 , Average loss: 1.4004, Accuracy: 4962/10000 (50%)\n",
      "\n"
     ]
    }
   ],
   "source": [
    "model= LeNet()\n",
    "\n",
    "lr = 0.001\n",
    "momentum = 0.9\n",
    "optimizer = optim.SGD(model.parameters(), lr, momentum)\n",
    "m0_loss_arr = []\n",
    "m0_acc_arr = []\n",
    "\n",
    "epochs = 10\n",
    "log_interval = 200\n",
    "for epoch in range(1, epochs + 1):\n",
    "    loss, acc = train(model, optimizer, epoch, train_loader, log_interval)\n",
    "    m0_loss_arr.append(loss)\n",
    "    m0_acc_arr.append(acc)\n",
    "    test(model, epoch, test_loader)"
   ]
  },
  {
   "cell_type": "code",
   "execution_count": 18,
   "metadata": {
    "colab": {
     "base_uri": "https://localhost:8080/"
    },
    "id": "wpG1f-35fGdB",
    "outputId": "84d41f04-512c-4aa3-f293-0618eb391a56"
   },
   "outputs": [
    {
     "name": "stdout",
     "output_type": "stream",
     "text": [
      "Train set, Epoch 1 [0/50000]\tLoss: 2.299510\n",
      "Train Accuracy:  10.94\n",
      "Train set, Epoch 1 [6400/50000]\tLoss: 2.300259\n",
      "Train Accuracy:  10.67\n",
      "Train set, Epoch 1 [12800/50000]\tLoss: 2.291364\n",
      "Train Accuracy:  11.11\n",
      "Train set, Epoch 1 [19200/50000]\tLoss: 2.247506\n",
      "Train Accuracy:  12.0\n",
      "Train set, Epoch 1 [25600/50000]\tLoss: 2.188226\n",
      "Train Accuracy:  13.89\n",
      "Train set, Epoch 1 [32000/50000]\tLoss: 2.187641\n",
      "Train Accuracy:  15.49\n",
      "Train set, Epoch 1 [38400/50000]\tLoss: 1.869187\n",
      "Train Accuracy:  17.18\n",
      "Train set, Epoch 1 [44800/50000]\tLoss: 1.832759\n",
      "Train Accuracy:  18.72\n"
     ]
    },
    {
     "name": "stderr",
     "output_type": "stream",
     "text": [
      "/usr/local/lib/python3.8/dist-packages/torch/nn/_reduction.py:42: UserWarning: size_average and reduce args will be deprecated, please use reduction='sum' instead.\n",
      "  warnings.warn(warning.format(ret))\n"
     ]
    },
    {
     "name": "stdout",
     "output_type": "stream",
     "text": [
      "\n",
      "Test set, Epoch 1 , Average loss: 1.8879, Accuracy: 3089/10000 (31%)\n",
      "\n",
      "Train set, Epoch 2 [0/50000]\tLoss: 1.924680\n",
      "Train Accuracy:  25.0\n",
      "Train set, Epoch 2 [6400/50000]\tLoss: 1.799953\n",
      "Train Accuracy:  30.63\n",
      "Train set, Epoch 2 [12800/50000]\tLoss: 1.817247\n",
      "Train Accuracy:  30.75\n",
      "Train set, Epoch 2 [19200/50000]\tLoss: 1.723490\n",
      "Train Accuracy:  31.51\n",
      "Train set, Epoch 2 [25600/50000]\tLoss: 1.979966\n",
      "Train Accuracy:  32.17\n",
      "Train set, Epoch 2 [32000/50000]\tLoss: 1.911735\n",
      "Train Accuracy:  32.62\n",
      "Train set, Epoch 2 [38400/50000]\tLoss: 1.485999\n",
      "Train Accuracy:  33.0\n",
      "Train set, Epoch 2 [44800/50000]\tLoss: 1.696311\n",
      "Train Accuracy:  33.52\n",
      "\n",
      "Test set, Epoch 2 , Average loss: 1.6057, Accuracy: 4204/10000 (42%)\n",
      "\n",
      "Train set, Epoch 3 [0/50000]\tLoss: 1.806012\n",
      "Train Accuracy:  39.06\n",
      "Train set, Epoch 3 [6400/50000]\tLoss: 1.741914\n",
      "Train Accuracy:  37.41\n",
      "Train set, Epoch 3 [12800/50000]\tLoss: 1.610001\n",
      "Train Accuracy:  38.32\n",
      "Train set, Epoch 3 [19200/50000]\tLoss: 1.424665\n",
      "Train Accuracy:  38.87\n",
      "Train set, Epoch 3 [25600/50000]\tLoss: 1.581917\n",
      "Train Accuracy:  39.18\n",
      "Train set, Epoch 3 [32000/50000]\tLoss: 1.450908\n",
      "Train Accuracy:  39.34\n",
      "Train set, Epoch 3 [38400/50000]\tLoss: 1.513045\n",
      "Train Accuracy:  39.72\n",
      "Train set, Epoch 3 [44800/50000]\tLoss: 1.609466\n",
      "Train Accuracy:  39.95\n",
      "\n",
      "Test set, Epoch 3 , Average loss: 1.5110, Accuracy: 4508/10000 (45%)\n",
      "\n",
      "Train set, Epoch 4 [0/50000]\tLoss: 1.566789\n",
      "Train Accuracy:  40.62\n",
      "Train set, Epoch 4 [6400/50000]\tLoss: 1.707032\n",
      "Train Accuracy:  42.05\n",
      "Train set, Epoch 4 [12800/50000]\tLoss: 1.398930\n",
      "Train Accuracy:  42.32\n",
      "Train set, Epoch 4 [19200/50000]\tLoss: 1.787531\n",
      "Train Accuracy:  42.91\n",
      "Train set, Epoch 4 [25600/50000]\tLoss: 1.529180\n",
      "Train Accuracy:  42.93\n",
      "Train set, Epoch 4 [32000/50000]\tLoss: 1.690971\n",
      "Train Accuracy:  43.08\n",
      "Train set, Epoch 4 [38400/50000]\tLoss: 1.422240\n",
      "Train Accuracy:  43.38\n",
      "Train set, Epoch 4 [44800/50000]\tLoss: 1.509350\n",
      "Train Accuracy:  43.59\n",
      "\n",
      "Test set, Epoch 4 , Average loss: 1.4651, Accuracy: 4846/10000 (48%)\n",
      "\n",
      "Train set, Epoch 5 [0/50000]\tLoss: 1.632485\n",
      "Train Accuracy:  37.5\n",
      "Train set, Epoch 5 [6400/50000]\tLoss: 1.545065\n",
      "Train Accuracy:  44.4\n",
      "Train set, Epoch 5 [12800/50000]\tLoss: 1.386325\n",
      "Train Accuracy:  45.37\n",
      "Train set, Epoch 5 [19200/50000]\tLoss: 1.430899\n",
      "Train Accuracy:  45.73\n",
      "Train set, Epoch 5 [25600/50000]\tLoss: 1.610095\n",
      "Train Accuracy:  45.8\n",
      "Train set, Epoch 5 [32000/50000]\tLoss: 1.449989\n",
      "Train Accuracy:  46.01\n",
      "Train set, Epoch 5 [38400/50000]\tLoss: 1.449714\n",
      "Train Accuracy:  46.03\n",
      "Train set, Epoch 5 [44800/50000]\tLoss: 1.503252\n",
      "Train Accuracy:  46.07\n",
      "\n",
      "Test set, Epoch 5 , Average loss: 1.3954, Accuracy: 4992/10000 (50%)\n",
      "\n",
      "Train set, Epoch 6 [0/50000]\tLoss: 1.531053\n",
      "Train Accuracy:  50.0\n",
      "Train set, Epoch 6 [6400/50000]\tLoss: 1.515391\n",
      "Train Accuracy:  47.32\n",
      "Train set, Epoch 6 [12800/50000]\tLoss: 1.298727\n",
      "Train Accuracy:  47.13\n",
      "Train set, Epoch 6 [19200/50000]\tLoss: 1.431804\n",
      "Train Accuracy:  47.76\n",
      "Train set, Epoch 6 [25600/50000]\tLoss: 1.409149\n",
      "Train Accuracy:  48.28\n",
      "Train set, Epoch 6 [32000/50000]\tLoss: 1.290581\n",
      "Train Accuracy:  48.38\n",
      "Train set, Epoch 6 [38400/50000]\tLoss: 1.281937\n",
      "Train Accuracy:  48.34\n",
      "Train set, Epoch 6 [44800/50000]\tLoss: 1.304046\n",
      "Train Accuracy:  48.47\n",
      "\n",
      "Test set, Epoch 6 , Average loss: 1.3298, Accuracy: 5290/10000 (53%)\n",
      "\n",
      "Train set, Epoch 7 [0/50000]\tLoss: 1.405194\n",
      "Train Accuracy:  53.12\n",
      "Train set, Epoch 7 [6400/50000]\tLoss: 1.161391\n",
      "Train Accuracy:  49.86\n",
      "Train set, Epoch 7 [12800/50000]\tLoss: 1.279369\n",
      "Train Accuracy:  50.02\n",
      "Train set, Epoch 7 [19200/50000]\tLoss: 1.446168\n",
      "Train Accuracy:  50.28\n",
      "Train set, Epoch 7 [25600/50000]\tLoss: 1.304676\n",
      "Train Accuracy:  50.65\n",
      "Train set, Epoch 7 [32000/50000]\tLoss: 1.360450\n",
      "Train Accuracy:  50.56\n",
      "Train set, Epoch 7 [38400/50000]\tLoss: 1.470299\n",
      "Train Accuracy:  50.66\n",
      "Train set, Epoch 7 [44800/50000]\tLoss: 1.317708\n",
      "Train Accuracy:  50.8\n",
      "\n",
      "Test set, Epoch 7 , Average loss: 1.3076, Accuracy: 5479/10000 (55%)\n",
      "\n",
      "Train set, Epoch 8 [0/50000]\tLoss: 1.323654\n",
      "Train Accuracy:  46.88\n",
      "Train set, Epoch 8 [6400/50000]\tLoss: 1.547576\n",
      "Train Accuracy:  51.53\n",
      "Train set, Epoch 8 [12800/50000]\tLoss: 1.207595\n",
      "Train Accuracy:  52.16\n",
      "Train set, Epoch 8 [19200/50000]\tLoss: 1.555118\n",
      "Train Accuracy:  51.99\n",
      "Train set, Epoch 8 [25600/50000]\tLoss: 1.341268\n",
      "Train Accuracy:  52.47\n",
      "Train set, Epoch 8 [32000/50000]\tLoss: 1.330406\n",
      "Train Accuracy:  52.65\n",
      "Train set, Epoch 8 [38400/50000]\tLoss: 1.402992\n",
      "Train Accuracy:  52.71\n",
      "Train set, Epoch 8 [44800/50000]\tLoss: 1.358451\n",
      "Train Accuracy:  52.9\n",
      "\n",
      "Test set, Epoch 8 , Average loss: 1.2135, Accuracy: 5747/10000 (57%)\n",
      "\n",
      "Train set, Epoch 9 [0/50000]\tLoss: 1.321175\n",
      "Train Accuracy:  56.25\n",
      "Train set, Epoch 9 [6400/50000]\tLoss: 1.297845\n",
      "Train Accuracy:  54.02\n",
      "Train set, Epoch 9 [12800/50000]\tLoss: 1.294770\n",
      "Train Accuracy:  53.82\n",
      "Train set, Epoch 9 [19200/50000]\tLoss: 1.201958\n",
      "Train Accuracy:  53.98\n",
      "Train set, Epoch 9 [25600/50000]\tLoss: 1.161773\n",
      "Train Accuracy:  54.29\n",
      "Train set, Epoch 9 [32000/50000]\tLoss: 1.318247\n",
      "Train Accuracy:  54.54\n",
      "Train set, Epoch 9 [38400/50000]\tLoss: 1.108640\n",
      "Train Accuracy:  54.59\n",
      "Train set, Epoch 9 [44800/50000]\tLoss: 1.114960\n",
      "Train Accuracy:  54.72\n",
      "\n",
      "Test set, Epoch 9 , Average loss: 1.1733, Accuracy: 5799/10000 (58%)\n",
      "\n",
      "Train set, Epoch 10 [0/50000]\tLoss: 1.288048\n",
      "Train Accuracy:  59.38\n",
      "Train set, Epoch 10 [6400/50000]\tLoss: 1.454974\n",
      "Train Accuracy:  56.05\n",
      "Train set, Epoch 10 [12800/50000]\tLoss: 1.219086\n",
      "Train Accuracy:  55.84\n",
      "Train set, Epoch 10 [19200/50000]\tLoss: 1.051038\n",
      "Train Accuracy:  56.06\n",
      "Train set, Epoch 10 [25600/50000]\tLoss: 1.348502\n",
      "Train Accuracy:  56.21\n",
      "Train set, Epoch 10 [32000/50000]\tLoss: 0.974653\n",
      "Train Accuracy:  56.27\n",
      "Train set, Epoch 10 [38400/50000]\tLoss: 0.944012\n",
      "Train Accuracy:  56.53\n",
      "Train set, Epoch 10 [44800/50000]\tLoss: 1.113341\n",
      "Train Accuracy:  56.65\n",
      "\n",
      "Test set, Epoch 10 , Average loss: 1.1133, Accuracy: 6163/10000 (62%)\n",
      "\n"
     ]
    }
   ],
   "source": [
    "model_2= Net()\n",
    "\n",
    "lr = 0.01\n",
    "momentum = 0.5\n",
    "optimizer = optim.SGD(model_2.parameters(), lr=lr, momentum=momentum)\n",
    "m1_loss_arr = []\n",
    "m1_acc_arr = []\n",
    "\n",
    "epochs = 10\n",
    "log_interval = 100\n",
    "for epoch in range(1, epochs + 1):\n",
    "    loss, acc = train(model_2, optimizer, epoch, train_loader, log_interval=log_interval)\n",
    "    m1_loss_arr.append(loss)\n",
    "    m1_acc_arr.append(acc)\n",
    "    test(model_2, epoch, test_loader)"
   ]
  },
  {
   "cell_type": "code",
   "execution_count": 20,
   "metadata": {
    "colab": {
     "base_uri": "https://localhost:8080/",
     "height": 364
    },
    "id": "OiYdn7kZfLAt",
    "outputId": "20410abf-0156-4270-9c45-2a71cfe235eb"
   },
   "outputs": [
    {
     "data": {
      "image/png": "[encoded data removed]",
      "text/plain": [
       "<Figure size 864x432 with 1 Axes>"
      ]
     },
     "metadata": {
      "needs_background": "light"
     },
     "output_type": "display_data"
    }
   ],
   "source": [
    "plt.figure(figsize=(12,6))\n",
    "plt.plot(np.arange(1, 11, 1), m0_loss_arr, color = \"r\")\n",
    "plt.plot(np.arange(1, 11, 1), m1_loss_arr, color = \"g\")\n",
    "plt.title('Model Loss')\n",
    "plt.legend(['Model 1', 'Model 2'])\n",
    "plt.xlabel('Epoch')\n",
    "plt.ylabel('Loss')\n",
    "plt.show()"
   ]
  },
  {
   "cell_type": "code",
   "execution_count": 21,
   "metadata": {
    "colab": {
     "base_uri": "https://localhost:8080/",
     "height": 365
    },
    "id": "E57cnKM_fde7",
    "outputId": "754a76f6-1add-4997-9ba4-ddeb473c1fc0"
   },
   "outputs": [
    {
     "data": {
      "image/png": "[encoded data removed]",
      "text/plain": [
       "<Figure size 864x432 with 1 Axes>"
      ]
     },
     "metadata": {
      "needs_background": "light"
     },
     "output_type": "display_data"
    }
   ],
   "source": [
    "plt.figure(figsize=(12,6))\n",
    "plt.plot(np.arange(1, 11, 1), m0_acc_arr, color = \"r\")\n",
    "plt.plot(np.arange(1, 11, 1), m1_acc_arr, color = \"g\")\n",
    "plt.title('Model Accuracy')\n",
    "plt.legend(['Model 1', 'Model 2'])\n",
    "plt.xlabel('Epoch')\n",
    "plt.ylabel('Accuracy')\n",
    "plt.show()"
   ]
  },
  {
   "cell_type": "code",
   "execution_count": null,
   "metadata": {
    "id": "1yJUSgdcfd2J"
   },
   "outputs": [],
   "source": []
  }
 ],
 "metadata": {
  "colab": {
   "provenance": []
  },
  "kernelspec": {
   "display_name": "Python 3 (ipykernel)",
   "language": "python",
   "name": "python3"
  },
  "language_info": {
   "codemirror_mode": {
    "name": "ipython",
    "version": 3
   },
   "file_extension": ".py",
   "mimetype": "text/x-python",
   "name": "python",
   "nbconvert_exporter": "python",
   "pygments_lexer": "ipython3",
   "version": "3.9.13"
  }
 },
 "nbformat": 4,
 "nbformat_minor": 1
}
